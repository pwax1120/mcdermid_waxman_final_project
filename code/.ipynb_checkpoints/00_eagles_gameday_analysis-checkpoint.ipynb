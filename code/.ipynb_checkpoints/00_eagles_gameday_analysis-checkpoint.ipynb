{
 "cells": [
  {
   "cell_type": "code",
   "execution_count": 1,
   "id": "970d885e-553b-4964-9c00-27f14ed22ec1",
   "metadata": {},
   "outputs": [],
   "source": [
    "import import_ipynb  \n",
    "import utils         \n",
    "import pandas as pd"
   ]
  },
  {
   "cell_type": "code",
   "execution_count": null,
   "id": "4bd6aa0c-b22b-4357-939f-eb19fce7ac48",
   "metadata": {},
   "outputs": [],
   "source": [
    "years = [2017,2018,2019,2020,2021,2022,2023,2024,2025]\n",
    "philly_crime_all = utils.load_philly_crime_data(years)"
   ]
  },
  {
   "cell_type": "code",
   "execution_count": null,
   "id": "f5cc849a-0bcf-4b56-bda4-9d808ead2b05",
   "metadata": {},
   "outputs": [],
   "source": [
    "# 1. Define Stadium Coordinates\n",
    "lincoln_field = (-75.1675, 39.9008)\n",
    "\n",
    "# 2. Preprocess Crime Data\n",
    "\n",
    "philly_processed = utils.preprocess_crime_data(philly_crime_all, stadium_coords=lincoln_field, date_col='dispatch_date_time')\n",
    "\n",
    "# 3. Load Eagles Game Dates\n",
    "# Load all Eagles games from 2021–2024\n",
    "eagles_games_all = utils.load_all_eagles_games()\n",
    "\n",
    "# Filter to home games only\n",
    "home_games = eagles_games_all[eagles_games_all[\"Location\"] == \"Home\"]\n",
    "\n",
    "# 4. Tag Game Windows\n",
    "philly_tagged = utils.tag_game_windows(\n",
    "    df=philly_processed,\n",
    "    games_df=home_games,\n",
    "    team_name=\"Eagles\",\n",
    ")\n",
    "\n",
    "# 5. Compute Δ Crime by Distance Bands\n",
    "philly_delta_by_distance = utils.compute_distance_crime_delta(\n",
    "    philly_tagged,\n",
    "    bins=[0,1000, 5000, 10000]\n",
    ")\n",
    "\n",
    "# Plot and save\n",
    "utils.plot_stadium_radii_map_with_bar_chart(\n",
    "    stadium_coords=lincoln_field,\n",
    "    crime_df=philly_tagged,\n",
    "    delta_df=philly_delta_by_distance,\n",
    "    radii_meters=[1000, 5000, 10000],\n",
    "    title=\"Crime Δ by Radius Around Lincoln Financial Field\",\n",
    "    zoom=9,\n",
    "    save_path_map=\"output/figures/philly_radius_map.png\",\n",
    "    save_path_bar=\"output/figures/philly_gameday_distances_bar.png\"\n",
    ")\n",
    "\n",
    "\n",
    "\n",
    "\n"
   ]
  },
  {
   "cell_type": "markdown",
   "id": "aaaae9dd-d895-45ec-bcca-7a717b9be1ef",
   "metadata": {},
   "source": [
    "This shows a few things:\n",
    "- Overall the crime rate on eagles game days causes a decrease in crime in philly as a whole\n",
    "- However close to the stadium there can be seen that there is an increase in crime rates within the kilometer around the stadium on game days\n",
    "- The reason crime rate decreases so much is due to the fact that it is a sunday and crime rates in philly are much lower on sundays\n",
    "- the reason the decrease size increases as we go further out is due to the increase in size that this represents"
   ]
  },
  {
   "cell_type": "code",
   "execution_count": null,
   "id": "641aea72-25f1-4f1d-a985-3e889bf0194f",
   "metadata": {},
   "outputs": [],
   "source": []
  }
 ],
 "metadata": {
  "kernelspec": {
   "display_name": "Python [conda env:qss20]",
   "language": "python",
   "name": "conda-env-qss20-py"
  },
  "language_info": {
   "codemirror_mode": {
    "name": "ipython",
    "version": 3
   },
   "file_extension": ".py",
   "mimetype": "text/x-python",
   "name": "python",
   "nbconvert_exporter": "python",
   "pygments_lexer": "ipython3",
   "version": "3.10.16"
  }
 },
 "nbformat": 4,
 "nbformat_minor": 5
}
