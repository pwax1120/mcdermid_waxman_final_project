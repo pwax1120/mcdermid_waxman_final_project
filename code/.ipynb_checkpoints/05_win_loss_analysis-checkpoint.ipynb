{
 "cells": [
  {
   "cell_type": "code",
   "execution_count": 1,
   "id": "ad8b8afc-18a2-457c-8d85-354302da194e",
   "metadata": {},
   "outputs": [],
   "source": [
    "import import_ipynb  \n",
    "import utils         \n",
    "import pandas as pd\n",
    "import plotly.express as px\n",
    "from scipy.stats import ttest_ind"
   ]
  },
  {
   "cell_type": "code",
   "execution_count": 2,
   "id": "2149b291-e14c-4848-83b0-054b71fc7390",
   "metadata": {},
   "outputs": [],
   "source": [
    "years = [2017,2018,2019,2020,2021,2022,2023,2024,2025]\n",
    "philly_crime_all = utils.load_philly_crime_data(years)"
   ]
  },
  {
   "cell_type": "code",
   "execution_count": 3,
   "id": "8794b185-860e-46d6-a82a-86ea8a269c45",
   "metadata": {},
   "outputs": [],
   "source": [
    "#stadium Coordinates\n",
    "lincoln_field = (-75.1675, 39.9008)\n",
    "\n",
    "#preprocess data\n",
    "philly_processed = utils.preprocess_crime_data(\n",
    "    philly_crime_all,\n",
    "    stadium_coords=lincoln_field,\n",
    "    date_col=\"dispatch_date_time\"\n",
    ")\n",
    "\n",
    "#Load eagles games, filter to home games\n",
    "eagles_games_all = utils.load_all_eagles_games()\n",
    "home_games = eagles_games_all[eagles_games_all[\"Location\"] == \"Home\"].copy()\n",
    "home_games[\"date\"] = pd.to_datetime(home_games[\"date\"]).dt.normalize()\n",
    "\n",
    "\n",
    "#Tag games days in the crime data\n",
    "philly_tagged = utils.tag_game_windows(\n",
    "    df=philly_processed,\n",
    "    games_df=home_games,\n",
    "    team_name=\"Eagles\"\n",
    ").copy()\n",
    "\n",
    "philly_tagged[\"date\"] = pd.to_datetime(philly_tagged[\"date\"]).dt.normalize()\n",
    "\n",
    "#Merge game result into tagged data\n",
    "game_results = home_games[[\"date\", \"Result\"]].copy()\n",
    "philly_tagged = philly_tagged.merge(game_results, on=\"date\", how=\"left\")"
   ]
  },
  {
   "cell_type": "code",
   "execution_count": 4,
   "id": "96f12f8d-3e4e-4c3d-bf10-d6847b965072",
   "metadata": {},
   "outputs": [
    {
     "ename": "NameError",
     "evalue": "name 'crime_count' is not defined",
     "output_type": "error",
     "traceback": [
      "\u001b[0;31m---------------------------------------------------------------------------\u001b[0m",
      "\u001b[0;31mNameError\u001b[0m                                 Traceback (most recent call last)",
      "Cell \u001b[0;32mIn[4], line 12\u001b[0m\n\u001b[1;32m      1\u001b[0m game_day_crimes \u001b[38;5;241m=\u001b[39m philly_tagged[\n\u001b[1;32m      2\u001b[0m     (philly_tagged[\u001b[38;5;124m\"\u001b[39m\u001b[38;5;124mis_game_window\u001b[39m\u001b[38;5;124m\"\u001b[39m]) \u001b[38;5;241m&\u001b[39m\n\u001b[1;32m      3\u001b[0m     (philly_tagged[\u001b[38;5;124m\"\u001b[39m\u001b[38;5;124mResult\u001b[39m\u001b[38;5;124m\"\u001b[39m]\u001b[38;5;241m.\u001b[39misin([\u001b[38;5;124m\"\u001b[39m\u001b[38;5;124mWin\u001b[39m\u001b[38;5;124m\"\u001b[39m, \u001b[38;5;124m\"\u001b[39m\u001b[38;5;124mLoss\u001b[39m\u001b[38;5;124m\"\u001b[39m]))\n\u001b[1;32m      4\u001b[0m ]\n\u001b[1;32m      6\u001b[0m crime_counts \u001b[38;5;241m=\u001b[39m (\n\u001b[1;32m      7\u001b[0m     game_day_crimes\u001b[38;5;241m.\u001b[39mgroupby([\u001b[38;5;124m\"\u001b[39m\u001b[38;5;124mdate\u001b[39m\u001b[38;5;124m\"\u001b[39m, \u001b[38;5;124m\"\u001b[39m\u001b[38;5;124mResult\u001b[39m\u001b[38;5;124m\"\u001b[39m])\n\u001b[1;32m      8\u001b[0m     \u001b[38;5;241m.\u001b[39msize()\n\u001b[1;32m      9\u001b[0m     \u001b[38;5;241m.\u001b[39mreset_index(name\u001b[38;5;241m=\u001b[39m\u001b[38;5;124m\"\u001b[39m\u001b[38;5;124mcrime_count\u001b[39m\u001b[38;5;124m\"\u001b[39m)\n\u001b[1;32m     10\u001b[0m )\n\u001b[0;32m---> 12\u001b[0m \u001b[43mutils\u001b[49m\u001b[38;5;241;43m.\u001b[39;49m\u001b[43mplot_game_day_crime_boxplot\u001b[49m\u001b[43m(\u001b[49m\n\u001b[1;32m     13\u001b[0m \u001b[43m    \u001b[49m\u001b[43mcrime_counts\u001b[49m\u001b[43m,\u001b[49m\n\u001b[1;32m     14\u001b[0m \u001b[43m    \u001b[49m\u001b[43mresult_col\u001b[49m\u001b[38;5;241;43m=\u001b[39;49m\u001b[38;5;124;43m\"\u001b[39;49m\u001b[38;5;124;43mResult\u001b[39;49m\u001b[38;5;124;43m\"\u001b[39;49m\u001b[43m,\u001b[49m\n\u001b[1;32m     15\u001b[0m \u001b[43m    \u001b[49m\u001b[43mtitle\u001b[49m\u001b[38;5;241;43m=\u001b[39;49m\u001b[38;5;124;43m\"\u001b[39;49m\u001b[38;5;124;43mCrime Counts on Eagles Game Days in Philadelphia by Win/Loss\u001b[39;49m\u001b[38;5;124;43m\"\u001b[39;49m\u001b[43m,\u001b[49m\n\u001b[1;32m     16\u001b[0m \u001b[43m    \u001b[49m\u001b[43msave_path\u001b[49m\u001b[38;5;241;43m=\u001b[39;49m\u001b[38;5;124;43m\"\u001b[39;49m\u001b[38;5;124;43moutput/figures/eagles_game_day_boxplot.png\u001b[39;49m\u001b[38;5;124;43m\"\u001b[39;49m\n\u001b[1;32m     17\u001b[0m \u001b[43m)\u001b[49m\n\u001b[1;32m     19\u001b[0m t_stat, p_val \u001b[38;5;241m=\u001b[39m utils\u001b[38;5;241m.\u001b[39mwelchs_t_test_by_result(\n\u001b[1;32m     20\u001b[0m     crime_counts,\n\u001b[1;32m     21\u001b[0m     result_col\u001b[38;5;241m=\u001b[39m\u001b[38;5;124m\"\u001b[39m\u001b[38;5;124mResult\u001b[39m\u001b[38;5;124m\"\u001b[39m,\n\u001b[1;32m     22\u001b[0m     group1\u001b[38;5;241m=\u001b[39m\u001b[38;5;124m\"\u001b[39m\u001b[38;5;124mWin\u001b[39m\u001b[38;5;124m\"\u001b[39m,\n\u001b[1;32m     23\u001b[0m     group2\u001b[38;5;241m=\u001b[39m\u001b[38;5;124m\"\u001b[39m\u001b[38;5;124mLoss\u001b[39m\u001b[38;5;124m\"\u001b[39m\n\u001b[1;32m     24\u001b[0m )\n",
      "File \u001b[0;32m<string>:22\u001b[0m, in \u001b[0;36mplot_game_day_crime_boxplot\u001b[0;34m(crime_counts, result_col, title, save_path)\u001b[0m\n",
      "\u001b[0;31mNameError\u001b[0m: name 'crime_count' is not defined"
     ]
    }
   ],
   "source": [
    "game_day_crimes = philly_tagged[\n",
    "    (philly_tagged[\"is_game_window\"]) &\n",
    "    (philly_tagged[\"Result\"].isin([\"Win\", \"Loss\"]))\n",
    "]\n",
    "\n",
    "crime_counts = (\n",
    "    game_day_crimes.groupby([\"date\", \"Result\"])\n",
    "    .size()\n",
    "    .reset_index(name=\"crime_count\")\n",
    ")\n",
    "\n",
    "utils.plot_game_day_crime_boxplot(\n",
    "    crime_counts,\n",
    "    result_col=\"Result\",\n",
    "    title=\"Crime Counts on Eagles Game Days in Philadelphia by Win/Loss\",\n",
    "    save_path=\"output/figures/eagles_game_day_boxplot.png\"\n",
    ")\n",
    "\n",
    "t_stat, p_val = utils.welchs_t_test_by_result(\n",
    "    crime_counts,\n",
    "    result_col=\"Result\",\n",
    "    group1=\"Win\",\n",
    "    group2=\"Loss\"\n",
    ")\n"
   ]
  },
  {
   "cell_type": "code",
   "execution_count": null,
   "id": "069f6912-106a-4ac4-98ef-e152bb7ef9cc",
   "metadata": {},
   "outputs": [],
   "source": [
    "#Filter to crimes within 3 km\n",
    "philly_tagged = philly_tagged[philly_tagged[\"distance_to_stadium_m\"] <= 3_000]\n",
    "\n",
    "game_day_crimes = philly_tagged[\n",
    "    (philly_tagged[\"is_game_window\"]) &\n",
    "    (philly_tagged[\"Result\"].isin([\"Win\", \"Loss\"]))\n",
    "]\n",
    "\n",
    "crime_counts = (\n",
    "    game_day_crimes.groupby([\"date\", \"Result\"])\n",
    "    .size()\n",
    "    .reset_index(name=\"crime_count\")\n",
    ")\n",
    "\n",
    "utils.plot_game_day_crime_boxplot(\n",
    "    crime_counts,\n",
    "    result_col=\"Result\",\n",
    "    title=\"Crime Counts on Eagles Game Days Within 3km of the Stadium by Win/Loss\",\n",
    "    save_path=\"output/figures/eagles_game_day_3km_boxplot.png\"\n",
    ")\n",
    "\n",
    "t_stat, p_val = utils.welchs_t_test_by_result(\n",
    "    crime_counts,\n",
    "    result_col=\"Result\",\n",
    "    group1=\"Win\",\n",
    "    group2=\"Loss\"\n",
    ")\n"
   ]
  },
  {
   "cell_type": "code",
   "execution_count": null,
   "id": "7a108dab-26a3-41d2-b7a0-eeaa26b95e1e",
   "metadata": {},
   "outputs": [],
   "source": []
  }
 ],
 "metadata": {
  "kernelspec": {
   "display_name": "Python [conda env:qss20]",
   "language": "python",
   "name": "conda-env-qss20-py"
  },
  "language_info": {
   "codemirror_mode": {
    "name": "ipython",
    "version": 3
   },
   "file_extension": ".py",
   "mimetype": "text/x-python",
   "name": "python",
   "nbconvert_exporter": "python",
   "pygments_lexer": "ipython3",
   "version": "3.10.16"
  }
 },
 "nbformat": 4,
 "nbformat_minor": 5
}
