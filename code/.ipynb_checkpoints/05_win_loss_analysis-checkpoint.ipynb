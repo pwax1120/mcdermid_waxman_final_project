{
 "cells": [
  {
   "cell_type": "code",
   "execution_count": 1,
   "id": "ad8b8afc-18a2-457c-8d85-354302da194e",
   "metadata": {},
   "outputs": [],
   "source": [
    "import import_ipynb  \n",
    "import utils         \n",
    "import pandas as pd\n",
    "import plotly.express as px\n",
    "from scipy.stats import ttest_ind"
   ]
  },
  {
   "cell_type": "code",
   "execution_count": 2,
   "id": "2149b291-e14c-4848-83b0-054b71fc7390",
   "metadata": {},
   "outputs": [],
   "source": [
    "years = [2017,2018,2019,2020,2021,2022,2023,2024,2025]\n",
    "philly_crime_all = utils.load_philly_crime_data(years)"
   ]
  },
  {
   "cell_type": "code",
   "execution_count": 3,
   "id": "8794b185-860e-46d6-a82a-86ea8a269c45",
   "metadata": {},
   "outputs": [],
   "source": [
    "#stadium Coordinates\n",
    "lincoln_field = (-75.1675, 39.9008)\n",
    "\n",
    "#preprocess data\n",
    "philly_processed = utils.preprocess_crime_data(\n",
    "    philly_crime_all,\n",
    "    stadium_coords=lincoln_field,\n",
    "    date_col=\"dispatch_date_time\"\n",
    ")\n",
    "\n",
    "#Load eagles games, filter to home games\n",
    "eagles_games_all = utils.load_all_eagles_games()\n",
    "home_games = eagles_games_all[eagles_games_all[\"Location\"] == \"Home\"].copy()\n",
    "home_games[\"date\"] = pd.to_datetime(home_games[\"date\"]).dt.normalize()\n",
    "\n",
    "\n",
    "#Tag games days in the crime data\n",
    "philly_tagged = utils.tag_game_windows(\n",
    "    df=philly_processed,\n",
    "    games_df=home_games,\n",
    "    team_name=\"Eagles\"\n",
    ").copy()\n",
    "\n",
    "philly_tagged[\"date\"] = pd.to_datetime(philly_tagged[\"date\"]).dt.normalize()\n",
    "\n",
    "#Merge game result into tagged data\n",
    "game_results = home_games[[\"date\", \"Result\"]].copy()\n",
    "philly_tagged = philly_tagged.merge(game_results, on=\"date\", how=\"left\")"
   ]
  },
  {
   "cell_type": "code",
   "execution_count": 4,
   "id": "96f12f8d-3e4e-4c3d-bf10-d6847b965072",
   "metadata": {},
   "outputs": [
    {
     "data": {
      "application/vnd.plotly.v1+json": {
       "config": {
        "plotlyServerURL": "https://plot.ly"
       },
       "data": [
        {
         "alignmentgroup": "True",
         "boxpoints": "all",
         "hovertemplate": "Result=%{x}<br>crime_count=%{y}<extra></extra>",
         "legendgroup": "",
         "marker": {
          "color": "#636efa"
         },
         "name": "",
         "notched": false,
         "offsetgroup": "",
         "orientation": "v",
         "showlegend": false,
         "type": "box",
         "x": [
          "Win",
          "Win",
          "Win",
          "Win",
          "Win",
          "Win",
          "Win",
          "Win",
          "Win",
          "Loss",
          "Win",
          "Win",
          "Loss",
          "Win",
          "Win",
          "Win",
          "Loss",
          "Loss",
          "Loss",
          "Win",
          "Win",
          "Win",
          "Loss",
          "Loss",
          "Win",
          "Loss",
          "Win",
          "Win",
          "Loss",
          "Loss",
          "Win",
          "Win",
          "Loss",
          "Loss",
          "Loss",
          "Loss",
          "Win",
          "Win",
          "Loss",
          "Win",
          "Loss",
          "Loss",
          "Loss",
          "Loss",
          "Loss",
          "Loss",
          "Loss",
          "Win",
          "Win",
          "Win",
          "Loss",
          "Loss",
          "Win",
          "Win",
          "Win",
          "Win",
          "Loss",
          "Win",
          "Win",
          "Loss",
          "Win",
          "Win",
          "Win",
          "Loss",
          "Loss",
          "Loss",
          "Win",
          "Win",
          "Win",
          "Win",
          "Win",
          "Loss",
          "Win",
          "Loss",
          "Loss",
          "Win",
          "Loss",
          "Win",
          "Win",
          "Win",
          "Win",
          "Win",
          "Win",
          "Win",
          "Win",
          "Win",
          "Win",
          "Win"
         ],
         "x0": " ",
         "xaxis": "x",
         "y": {
          "_inputArray": {
           "0": 449,
           "1": 504,
           "10": 375,
           "11": 384,
           "12": 467,
           "13": 505,
           "14": 487,
           "15": 356,
           "16": 403,
           "17": 341,
           "18": 354,
           "19": 326,
           "2": 410,
           "20": 386,
           "21": 332,
           "22": 514,
           "23": 537,
           "24": 404,
           "25": 397,
           "26": 377,
           "27": 345,
           "28": 322,
           "29": 303,
           "3": 398,
           "30": 392,
           "31": 306,
           "32": 362,
           "33": 316,
           "34": 337,
           "35": 329,
           "36": 458,
           "37": 274,
           "38": 330,
           "39": 298,
           "4": 498,
           "40": 293,
           "41": 371,
           "42": 406,
           "43": 331,
           "44": 346,
           "45": 485,
           "46": 305,
           "47": 305,
           "48": 373,
           "49": 255,
           "5": 412,
           "50": 255,
           "51": 462,
           "52": 463,
           "53": 356,
           "54": 357,
           "55": 379,
           "56": 441,
           "57": 348,
           "58": 365,
           "59": 332,
           "6": 393,
           "60": 384,
           "61": 424,
           "62": 375,
           "63": 391,
           "64": 526,
           "65": 488,
           "66": 479,
           "67": 383,
           "68": 305,
           "69": 378,
           "7": 381,
           "70": 339,
           "71": 349,
           "72": 219,
           "73": 337,
           "74": 410,
           "75": 441,
           "76": 486,
           "77": 367,
           "78": 342,
           "79": 428,
           "8": 203,
           "80": 342,
           "81": 306,
           "82": 341,
           "83": 322,
           "84": 328,
           "85": 292,
           "86": 335,
           "87": 266,
           "9": 227,
           "bdata": "wQH4AZoBjgHyAZwBiQF9AcsA4wB3AYAB0wH5AecBZAGTAVUBYgFGAYIBTAECAhkClAGNAXkBWQFCAS8BiAEyAWoBPAFRAUkBygESAUoBKgElAXMBlgFLAVoB5QExATEBdQH/AP8AzgHPAWQBZQF7AbkBXAFtAUwBgAGoAXcBhwEOAugB3wF/ATEBegFTAV0B2wBRAZoBuQHmAW8BVgGsAVYBMgFVAUIBSAEkAU8BCgE=",
           "dtype": "i2",
           "shape": "88"
          },
          "bdata": "wQH4AZoBjgHyAZwBiQF9AcsA4wB3AYAB0wH5AecBZAGTAVUBYgFGAYIBTAECAhkClAGNAXkBWQFCAS8BiAEyAWoBPAFRAUkBygESAUoBKgElAXMBlgFLAVoB5QExATEBdQH/AP8AzgHPAWQBZQF7AbkBXAFtAUwBgAGoAXcBhwEOAugB3wF/ATEBegFTAV0B2wBRAZoBuQHmAW8BVgGsAVYBMgFVAUIBSAEkAU8BCgE=",
          "dtype": "i2"
         },
         "y0": " ",
         "yaxis": "y"
        }
       ],
       "layout": {
        "autosize": true,
        "boxmode": "group",
        "legend": {
         "tracegroupgap": 0
        },
        "template": {
         "data": {
          "bar": [
           {
            "error_x": {
             "color": "#2a3f5f"
            },
            "error_y": {
             "color": "#2a3f5f"
            },
            "marker": {
             "line": {
              "color": "#E5ECF6",
              "width": 0.5
             },
             "pattern": {
              "fillmode": "overlay",
              "size": 10,
              "solidity": 0.2
             }
            },
            "type": "bar"
           }
          ],
          "barpolar": [
           {
            "marker": {
             "line": {
              "color": "#E5ECF6",
              "width": 0.5
             },
             "pattern": {
              "fillmode": "overlay",
              "size": 10,
              "solidity": 0.2
             }
            },
            "type": "barpolar"
           }
          ],
          "carpet": [
           {
            "aaxis": {
             "endlinecolor": "#2a3f5f",
             "gridcolor": "white",
             "linecolor": "white",
             "minorgridcolor": "white",
             "startlinecolor": "#2a3f5f"
            },
            "baxis": {
             "endlinecolor": "#2a3f5f",
             "gridcolor": "white",
             "linecolor": "white",
             "minorgridcolor": "white",
             "startlinecolor": "#2a3f5f"
            },
            "type": "carpet"
           }
          ],
          "choropleth": [
           {
            "colorbar": {
             "outlinewidth": 0,
             "ticks": ""
            },
            "type": "choropleth"
           }
          ],
          "contour": [
           {
            "colorbar": {
             "outlinewidth": 0,
             "ticks": ""
            },
            "colorscale": [
             [
              0,
              "#0d0887"
             ],
             [
              0.1111111111111111,
              "#46039f"
             ],
             [
              0.2222222222222222,
              "#7201a8"
             ],
             [
              0.3333333333333333,
              "#9c179e"
             ],
             [
              0.4444444444444444,
              "#bd3786"
             ],
             [
              0.5555555555555556,
              "#d8576b"
             ],
             [
              0.6666666666666666,
              "#ed7953"
             ],
             [
              0.7777777777777778,
              "#fb9f3a"
             ],
             [
              0.8888888888888888,
              "#fdca26"
             ],
             [
              1,
              "#f0f921"
             ]
            ],
            "type": "contour"
           }
          ],
          "contourcarpet": [
           {
            "colorbar": {
             "outlinewidth": 0,
             "ticks": ""
            },
            "type": "contourcarpet"
           }
          ],
          "heatmap": [
           {
            "colorbar": {
             "outlinewidth": 0,
             "ticks": ""
            },
            "colorscale": [
             [
              0,
              "#0d0887"
             ],
             [
              0.1111111111111111,
              "#46039f"
             ],
             [
              0.2222222222222222,
              "#7201a8"
             ],
             [
              0.3333333333333333,
              "#9c179e"
             ],
             [
              0.4444444444444444,
              "#bd3786"
             ],
             [
              0.5555555555555556,
              "#d8576b"
             ],
             [
              0.6666666666666666,
              "#ed7953"
             ],
             [
              0.7777777777777778,
              "#fb9f3a"
             ],
             [
              0.8888888888888888,
              "#fdca26"
             ],
             [
              1,
              "#f0f921"
             ]
            ],
            "type": "heatmap"
           }
          ],
          "histogram": [
           {
            "marker": {
             "pattern": {
              "fillmode": "overlay",
              "size": 10,
              "solidity": 0.2
             }
            },
            "type": "histogram"
           }
          ],
          "histogram2d": [
           {
            "colorbar": {
             "outlinewidth": 0,
             "ticks": ""
            },
            "colorscale": [
             [
              0,
              "#0d0887"
             ],
             [
              0.1111111111111111,
              "#46039f"
             ],
             [
              0.2222222222222222,
              "#7201a8"
             ],
             [
              0.3333333333333333,
              "#9c179e"
             ],
             [
              0.4444444444444444,
              "#bd3786"
             ],
             [
              0.5555555555555556,
              "#d8576b"
             ],
             [
              0.6666666666666666,
              "#ed7953"
             ],
             [
              0.7777777777777778,
              "#fb9f3a"
             ],
             [
              0.8888888888888888,
              "#fdca26"
             ],
             [
              1,
              "#f0f921"
             ]
            ],
            "type": "histogram2d"
           }
          ],
          "histogram2dcontour": [
           {
            "colorbar": {
             "outlinewidth": 0,
             "ticks": ""
            },
            "colorscale": [
             [
              0,
              "#0d0887"
             ],
             [
              0.1111111111111111,
              "#46039f"
             ],
             [
              0.2222222222222222,
              "#7201a8"
             ],
             [
              0.3333333333333333,
              "#9c179e"
             ],
             [
              0.4444444444444444,
              "#bd3786"
             ],
             [
              0.5555555555555556,
              "#d8576b"
             ],
             [
              0.6666666666666666,
              "#ed7953"
             ],
             [
              0.7777777777777778,
              "#fb9f3a"
             ],
             [
              0.8888888888888888,
              "#fdca26"
             ],
             [
              1,
              "#f0f921"
             ]
            ],
            "type": "histogram2dcontour"
           }
          ],
          "mesh3d": [
           {
            "colorbar": {
             "outlinewidth": 0,
             "ticks": ""
            },
            "type": "mesh3d"
           }
          ],
          "parcoords": [
           {
            "line": {
             "colorbar": {
              "outlinewidth": 0,
              "ticks": ""
             }
            },
            "type": "parcoords"
           }
          ],
          "pie": [
           {
            "automargin": true,
            "type": "pie"
           }
          ],
          "scatter": [
           {
            "fillpattern": {
             "fillmode": "overlay",
             "size": 10,
             "solidity": 0.2
            },
            "type": "scatter"
           }
          ],
          "scatter3d": [
           {
            "line": {
             "colorbar": {
              "outlinewidth": 0,
              "ticks": ""
             }
            },
            "marker": {
             "colorbar": {
              "outlinewidth": 0,
              "ticks": ""
             }
            },
            "type": "scatter3d"
           }
          ],
          "scattercarpet": [
           {
            "marker": {
             "colorbar": {
              "outlinewidth": 0,
              "ticks": ""
             }
            },
            "type": "scattercarpet"
           }
          ],
          "scattergeo": [
           {
            "marker": {
             "colorbar": {
              "outlinewidth": 0,
              "ticks": ""
             }
            },
            "type": "scattergeo"
           }
          ],
          "scattergl": [
           {
            "marker": {
             "colorbar": {
              "outlinewidth": 0,
              "ticks": ""
             }
            },
            "type": "scattergl"
           }
          ],
          "scattermap": [
           {
            "marker": {
             "colorbar": {
              "outlinewidth": 0,
              "ticks": ""
             }
            },
            "type": "scattermap"
           }
          ],
          "scattermapbox": [
           {
            "marker": {
             "colorbar": {
              "outlinewidth": 0,
              "ticks": ""
             }
            },
            "type": "scattermapbox"
           }
          ],
          "scatterpolar": [
           {
            "marker": {
             "colorbar": {
              "outlinewidth": 0,
              "ticks": ""
             }
            },
            "type": "scatterpolar"
           }
          ],
          "scatterpolargl": [
           {
            "marker": {
             "colorbar": {
              "outlinewidth": 0,
              "ticks": ""
             }
            },
            "type": "scatterpolargl"
           }
          ],
          "scatterternary": [
           {
            "marker": {
             "colorbar": {
              "outlinewidth": 0,
              "ticks": ""
             }
            },
            "type": "scatterternary"
           }
          ],
          "surface": [
           {
            "colorbar": {
             "outlinewidth": 0,
             "ticks": ""
            },
            "colorscale": [
             [
              0,
              "#0d0887"
             ],
             [
              0.1111111111111111,
              "#46039f"
             ],
             [
              0.2222222222222222,
              "#7201a8"
             ],
             [
              0.3333333333333333,
              "#9c179e"
             ],
             [
              0.4444444444444444,
              "#bd3786"
             ],
             [
              0.5555555555555556,
              "#d8576b"
             ],
             [
              0.6666666666666666,
              "#ed7953"
             ],
             [
              0.7777777777777778,
              "#fb9f3a"
             ],
             [
              0.8888888888888888,
              "#fdca26"
             ],
             [
              1,
              "#f0f921"
             ]
            ],
            "type": "surface"
           }
          ],
          "table": [
           {
            "cells": {
             "fill": {
              "color": "#EBF0F8"
             },
             "line": {
              "color": "white"
             }
            },
            "header": {
             "fill": {
              "color": "#C8D4E3"
             },
             "line": {
              "color": "white"
             }
            },
            "type": "table"
           }
          ]
         },
         "layout": {
          "annotationdefaults": {
           "arrowcolor": "#2a3f5f",
           "arrowhead": 0,
           "arrowwidth": 1
          },
          "autotypenumbers": "strict",
          "coloraxis": {
           "colorbar": {
            "outlinewidth": 0,
            "ticks": ""
           }
          },
          "colorscale": {
           "diverging": [
            [
             0,
             "#8e0152"
            ],
            [
             0.1,
             "#c51b7d"
            ],
            [
             0.2,
             "#de77ae"
            ],
            [
             0.3,
             "#f1b6da"
            ],
            [
             0.4,
             "#fde0ef"
            ],
            [
             0.5,
             "#f7f7f7"
            ],
            [
             0.6,
             "#e6f5d0"
            ],
            [
             0.7,
             "#b8e186"
            ],
            [
             0.8,
             "#7fbc41"
            ],
            [
             0.9,
             "#4d9221"
            ],
            [
             1,
             "#276419"
            ]
           ],
           "sequential": [
            [
             0,
             "#0d0887"
            ],
            [
             0.1111111111111111,
             "#46039f"
            ],
            [
             0.2222222222222222,
             "#7201a8"
            ],
            [
             0.3333333333333333,
             "#9c179e"
            ],
            [
             0.4444444444444444,
             "#bd3786"
            ],
            [
             0.5555555555555556,
             "#d8576b"
            ],
            [
             0.6666666666666666,
             "#ed7953"
            ],
            [
             0.7777777777777778,
             "#fb9f3a"
            ],
            [
             0.8888888888888888,
             "#fdca26"
            ],
            [
             1,
             "#f0f921"
            ]
           ],
           "sequentialminus": [
            [
             0,
             "#0d0887"
            ],
            [
             0.1111111111111111,
             "#46039f"
            ],
            [
             0.2222222222222222,
             "#7201a8"
            ],
            [
             0.3333333333333333,
             "#9c179e"
            ],
            [
             0.4444444444444444,
             "#bd3786"
            ],
            [
             0.5555555555555556,
             "#d8576b"
            ],
            [
             0.6666666666666666,
             "#ed7953"
            ],
            [
             0.7777777777777778,
             "#fb9f3a"
            ],
            [
             0.8888888888888888,
             "#fdca26"
            ],
            [
             1,
             "#f0f921"
            ]
           ]
          },
          "colorway": [
           "#636efa",
           "#EF553B",
           "#00cc96",
           "#ab63fa",
           "#FFA15A",
           "#19d3f3",
           "#FF6692",
           "#B6E880",
           "#FF97FF",
           "#FECB52"
          ],
          "font": {
           "color": "#2a3f5f"
          },
          "geo": {
           "bgcolor": "white",
           "lakecolor": "white",
           "landcolor": "#E5ECF6",
           "showlakes": true,
           "showland": true,
           "subunitcolor": "white"
          },
          "hoverlabel": {
           "align": "left"
          },
          "hovermode": "closest",
          "mapbox": {
           "style": "light"
          },
          "paper_bgcolor": "white",
          "plot_bgcolor": "#E5ECF6",
          "polar": {
           "angularaxis": {
            "gridcolor": "white",
            "linecolor": "white",
            "ticks": ""
           },
           "bgcolor": "#E5ECF6",
           "radialaxis": {
            "gridcolor": "white",
            "linecolor": "white",
            "ticks": ""
           }
          },
          "scene": {
           "xaxis": {
            "backgroundcolor": "#E5ECF6",
            "gridcolor": "white",
            "gridwidth": 2,
            "linecolor": "white",
            "showbackground": true,
            "ticks": "",
            "zerolinecolor": "white"
           },
           "yaxis": {
            "backgroundcolor": "#E5ECF6",
            "gridcolor": "white",
            "gridwidth": 2,
            "linecolor": "white",
            "showbackground": true,
            "ticks": "",
            "zerolinecolor": "white"
           },
           "zaxis": {
            "backgroundcolor": "#E5ECF6",
            "gridcolor": "white",
            "gridwidth": 2,
            "linecolor": "white",
            "showbackground": true,
            "ticks": "",
            "zerolinecolor": "white"
           }
          },
          "shapedefaults": {
           "line": {
            "color": "#2a3f5f"
           }
          },
          "ternary": {
           "aaxis": {
            "gridcolor": "white",
            "linecolor": "white",
            "ticks": ""
           },
           "baxis": {
            "gridcolor": "white",
            "linecolor": "white",
            "ticks": ""
           },
           "bgcolor": "#E5ECF6",
           "caxis": {
            "gridcolor": "white",
            "linecolor": "white",
            "ticks": ""
           }
          },
          "title": {
           "x": 0.05
          },
          "xaxis": {
           "automargin": true,
           "gridcolor": "white",
           "linecolor": "white",
           "ticks": "",
           "title": {
            "standoff": 15
           },
           "zerolinecolor": "white",
           "zerolinewidth": 2
          },
          "yaxis": {
           "automargin": true,
           "gridcolor": "white",
           "linecolor": "white",
           "ticks": "",
           "title": {
            "standoff": 15
           },
           "zerolinecolor": "white",
           "zerolinewidth": 2
          }
         }
        },
        "title": {
         "text": "Crime Counts on Eagles Game Days in Philadelphia by Win/Loss"
        },
        "xaxis": {
         "anchor": "y",
         "autorange": true,
         "domain": [
          0,
          1
         ],
         "range": [
          -0.5063025210084033,
          1.5
         ],
         "title": {
          "text": "Result"
         },
         "type": "category"
        },
        "yaxis": {
         "anchor": "x",
         "autorange": true,
         "domain": [
          0,
          1
         ],
         "range": [
          184.44444444444446,
          555.5555555555555
         ],
         "title": {
          "text": "crime_count"
         },
         "type": "linear"
        }
       }
      },
      "image/png": "[encoded data removed]"
     },
     "metadata": {},
     "output_type": "display_data"
    },
    {
     "name": "stdout",
     "output_type": "stream",
     "text": [
      "Welch's t-test (Win vs Loss): t=-0.74, p=0.4636\n"
     ]
    }
   ],
   "source": [
    "game_day_crimes = philly_tagged[\n",
    "    (philly_tagged[\"is_game_window\"]) &\n",
    "    (philly_tagged[\"Result\"].isin([\"Win\", \"Loss\"]))\n",
    "]\n",
    "\n",
    "crime_counts = (\n",
    "    game_day_crimes.groupby([\"date\", \"Result\"])\n",
    "    .size()\n",
    "    .reset_index(name=\"crime_count\")\n",
    ")\n",
    "\n",
    "utils.plot_game_day_crime_boxplot(\n",
    "    crime_counts,\n",
    "    result_col=\"Result\",\n",
    "    title=\"Crime Counts on Eagles Game Days in Philadelphia by Win/Loss\",\n",
    "    save_path=\"output/figures/eagles_game_day_boxplot.png\"\n",
    ")\n",
    "\n",
    "t_stat, p_val = utils.welchs_t_test_by_result(\n",
    "    crime_counts,\n",
    "    result_col=\"Result\",\n",
    "    group1=\"Win\",\n",
    "    group2=\"Loss\"\n",
    ")\n"
   ]
  },
  {
   "cell_type": "code",
   "execution_count": 5,
   "id": "069f6912-106a-4ac4-98ef-e152bb7ef9cc",
   "metadata": {},
   "outputs": [
    {
     "data": {
      "application/vnd.plotly.v1+json": {
       "config": {
        "plotlyServerURL": "https://plot.ly"
       },
       "data": [
        {
         "alignmentgroup": "True",
         "boxpoints": "all",
         "hovertemplate": "Result=%{x}<br>crime_count=%{y}<extra></extra>",
         "legendgroup": "",
         "marker": {
          "color": "#636efa"
         },
         "name": "",
         "notched": false,
         "offsetgroup": "",
         "orientation": "v",
         "showlegend": false,
         "type": "box",
         "x": [
          "Win",
          "Win",
          "Win",
          "Win",
          "Win",
          "Win",
          "Win",
          "Win",
          "Win",
          "Loss",
          "Win",
          "Win",
          "Loss",
          "Win",
          "Win",
          "Win",
          "Loss",
          "Loss",
          "Loss",
          "Win",
          "Win",
          "Win",
          "Loss",
          "Loss",
          "Win",
          "Loss",
          "Win",
          "Win",
          "Loss",
          "Loss",
          "Win",
          "Win",
          "Loss",
          "Loss",
          "Loss",
          "Loss",
          "Win",
          "Loss",
          "Win",
          "Loss",
          "Loss",
          "Loss",
          "Loss",
          "Loss",
          "Loss",
          "Loss",
          "Win",
          "Win",
          "Win",
          "Loss",
          "Loss",
          "Win",
          "Win",
          "Win",
          "Win",
          "Loss",
          "Win",
          "Win",
          "Loss",
          "Win",
          "Win",
          "Win",
          "Loss",
          "Loss",
          "Loss",
          "Win",
          "Win",
          "Win",
          "Win",
          "Win",
          "Loss",
          "Win",
          "Loss",
          "Loss",
          "Win",
          "Loss",
          "Win",
          "Win",
          "Win",
          "Win",
          "Win",
          "Win",
          "Win",
          "Win",
          "Win",
          "Win",
          "Win"
         ],
         "x0": " ",
         "xaxis": "x",
         "y": {
          "_inputArray": {
           "0": 4,
           "1": 8,
           "10": 14,
           "11": 8,
           "12": 4,
           "13": 4,
           "14": 11,
           "15": 10,
           "16": 9,
           "17": 6,
           "18": 10,
           "19": 1,
           "2": 10,
           "20": 4,
           "21": 4,
           "22": 7,
           "23": 8,
           "24": 10,
           "25": 10,
           "26": 5,
           "27": 3,
           "28": 6,
           "29": 3,
           "3": 8,
           "30": 7,
           "31": 4,
           "32": 2,
           "33": 2,
           "34": 4,
           "35": 7,
           "36": 8,
           "37": 2,
           "38": 4,
           "39": 2,
           "4": 7,
           "40": 5,
           "41": 11,
           "42": 6,
           "43": 10,
           "44": 5,
           "45": 8,
           "46": 9,
           "47": 7,
           "48": 3,
           "49": 3,
           "5": 10,
           "50": 5,
           "51": 12,
           "52": 6,
           "53": 10,
           "54": 9,
           "55": 4,
           "56": 6,
           "57": 6,
           "58": 9,
           "59": 6,
           "6": 7,
           "60": 8,
           "61": 12,
           "62": 4,
           "63": 3,
           "64": 5,
           "65": 12,
           "66": 15,
           "67": 6,
           "68": 16,
           "69": 8,
           "7": 2,
           "70": 5,
           "71": 9,
           "72": 5,
           "73": 6,
           "74": 6,
           "75": 7,
           "76": 12,
           "77": 5,
           "78": 5,
           "79": 6,
           "8": 4,
           "80": 5,
           "81": 5,
           "82": 5,
           "83": 9,
           "84": 9,
           "85": 10,
           "86": 3,
           "9": 2,
           "bdata": "BAgKCAcKBwIEAg4IBAQLCgkGCgEEBAcICgoFAwYDBwQCAgQHCAIEAgULBgoFCAkHAwMFDAYKCQQGBgkGCAwEAwUMDwYQCAUJBQYGBwwFBQYFBQUJCQoD",
           "dtype": "i1",
           "shape": "87"
          },
          "bdata": "BAgKCAcKBwIEAg4IBAQLCgkGCgEEBAcICgoFAwYDBwQCAgQHCAIEAgULBgoFCAkHAwMFDAYKCQQGBgkGCAwEAwUMDwYQCAUJBQYGBwwFBQYFBQUJCQoD",
          "dtype": "i1"
         },
         "y0": " ",
         "yaxis": "y"
        }
       ],
       "layout": {
        "autosize": true,
        "boxmode": "group",
        "legend": {
         "tracegroupgap": 0
        },
        "template": {
         "data": {
          "bar": [
           {
            "error_x": {
             "color": "#2a3f5f"
            },
            "error_y": {
             "color": "#2a3f5f"
            },
            "marker": {
             "line": {
              "color": "#E5ECF6",
              "width": 0.5
             },
             "pattern": {
              "fillmode": "overlay",
              "size": 10,
              "solidity": 0.2
             }
            },
            "type": "bar"
           }
          ],
          "barpolar": [
           {
            "marker": {
             "line": {
              "color": "#E5ECF6",
              "width": 0.5
             },
             "pattern": {
              "fillmode": "overlay",
              "size": 10,
              "solidity": 0.2
             }
            },
            "type": "barpolar"
           }
          ],
          "carpet": [
           {
            "aaxis": {
             "endlinecolor": "#2a3f5f",
             "gridcolor": "white",
             "linecolor": "white",
             "minorgridcolor": "white",
             "startlinecolor": "#2a3f5f"
            },
            "baxis": {
             "endlinecolor": "#2a3f5f",
             "gridcolor": "white",
             "linecolor": "white",
             "minorgridcolor": "white",
             "startlinecolor": "#2a3f5f"
            },
            "type": "carpet"
           }
          ],
          "choropleth": [
           {
            "colorbar": {
             "outlinewidth": 0,
             "ticks": ""
            },
            "type": "choropleth"
           }
          ],
          "contour": [
           {
            "colorbar": {
             "outlinewidth": 0,
             "ticks": ""
            },
            "colorscale": [
             [
              0,
              "#0d0887"
             ],
             [
              0.1111111111111111,
              "#46039f"
             ],
             [
              0.2222222222222222,
              "#7201a8"
             ],
             [
              0.3333333333333333,
              "#9c179e"
             ],
             [
              0.4444444444444444,
              "#bd3786"
             ],
             [
              0.5555555555555556,
              "#d8576b"
             ],
             [
              0.6666666666666666,
              "#ed7953"
             ],
             [
              0.7777777777777778,
              "#fb9f3a"
             ],
             [
              0.8888888888888888,
              "#fdca26"
             ],
             [
              1,
              "#f0f921"
             ]
            ],
            "type": "contour"
           }
          ],
          "contourcarpet": [
           {
            "colorbar": {
             "outlinewidth": 0,
             "ticks": ""
            },
            "type": "contourcarpet"
           }
          ],
          "heatmap": [
           {
            "colorbar": {
             "outlinewidth": 0,
             "ticks": ""
            },
            "colorscale": [
             [
              0,
              "#0d0887"
             ],
             [
              0.1111111111111111,
              "#46039f"
             ],
             [
              0.2222222222222222,
              "#7201a8"
             ],
             [
              0.3333333333333333,
              "#9c179e"
             ],
             [
              0.4444444444444444,
              "#bd3786"
             ],
             [
              0.5555555555555556,
              "#d8576b"
             ],
             [
              0.6666666666666666,
              "#ed7953"
             ],
             [
              0.7777777777777778,
              "#fb9f3a"
             ],
             [
              0.8888888888888888,
              "#fdca26"
             ],
             [
              1,
              "#f0f921"
             ]
            ],
            "type": "heatmap"
           }
          ],
          "histogram": [
           {
            "marker": {
             "pattern": {
              "fillmode": "overlay",
              "size": 10,
              "solidity": 0.2
             }
            },
            "type": "histogram"
           }
          ],
          "histogram2d": [
           {
            "colorbar": {
             "outlinewidth": 0,
             "ticks": ""
            },
            "colorscale": [
             [
              0,
              "#0d0887"
             ],
             [
              0.1111111111111111,
              "#46039f"
             ],
             [
              0.2222222222222222,
              "#7201a8"
             ],
             [
              0.3333333333333333,
              "#9c179e"
             ],
             [
              0.4444444444444444,
              "#bd3786"
             ],
             [
              0.5555555555555556,
              "#d8576b"
             ],
             [
              0.6666666666666666,
              "#ed7953"
             ],
             [
              0.7777777777777778,
              "#fb9f3a"
             ],
             [
              0.8888888888888888,
              "#fdca26"
             ],
             [
              1,
              "#f0f921"
             ]
            ],
            "type": "histogram2d"
           }
          ],
          "histogram2dcontour": [
           {
            "colorbar": {
             "outlinewidth": 0,
             "ticks": ""
            },
            "colorscale": [
             [
              0,
              "#0d0887"
             ],
             [
              0.1111111111111111,
              "#46039f"
             ],
             [
              0.2222222222222222,
              "#7201a8"
             ],
             [
              0.3333333333333333,
              "#9c179e"
             ],
             [
              0.4444444444444444,
              "#bd3786"
             ],
             [
              0.5555555555555556,
              "#d8576b"
             ],
             [
              0.6666666666666666,
              "#ed7953"
             ],
             [
              0.7777777777777778,
              "#fb9f3a"
             ],
             [
              0.8888888888888888,
              "#fdca26"
             ],
             [
              1,
              "#f0f921"
             ]
            ],
            "type": "histogram2dcontour"
           }
          ],
          "mesh3d": [
           {
            "colorbar": {
             "outlinewidth": 0,
             "ticks": ""
            },
            "type": "mesh3d"
           }
          ],
          "parcoords": [
           {
            "line": {
             "colorbar": {
              "outlinewidth": 0,
              "ticks": ""
             }
            },
            "type": "parcoords"
           }
          ],
          "pie": [
           {
            "automargin": true,
            "type": "pie"
           }
          ],
          "scatter": [
           {
            "fillpattern": {
             "fillmode": "overlay",
             "size": 10,
             "solidity": 0.2
            },
            "type": "scatter"
           }
          ],
          "scatter3d": [
           {
            "line": {
             "colorbar": {
              "outlinewidth": 0,
              "ticks": ""
             }
            },
            "marker": {
             "colorbar": {
              "outlinewidth": 0,
              "ticks": ""
             }
            },
            "type": "scatter3d"
           }
          ],
          "scattercarpet": [
           {
            "marker": {
             "colorbar": {
              "outlinewidth": 0,
              "ticks": ""
             }
            },
            "type": "scattercarpet"
           }
          ],
          "scattergeo": [
           {
            "marker": {
             "colorbar": {
              "outlinewidth": 0,
              "ticks": ""
             }
            },
            "type": "scattergeo"
           }
          ],
          "scattergl": [
           {
            "marker": {
             "colorbar": {
              "outlinewidth": 0,
              "ticks": ""
             }
            },
            "type": "scattergl"
           }
          ],
          "scattermap": [
           {
            "marker": {
             "colorbar": {
              "outlinewidth": 0,
              "ticks": ""
             }
            },
            "type": "scattermap"
           }
          ],
          "scattermapbox": [
           {
            "marker": {
             "colorbar": {
              "outlinewidth": 0,
              "ticks": ""
             }
            },
            "type": "scattermapbox"
           }
          ],
          "scatterpolar": [
           {
            "marker": {
             "colorbar": {
              "outlinewidth": 0,
              "ticks": ""
             }
            },
            "type": "scatterpolar"
           }
          ],
          "scatterpolargl": [
           {
            "marker": {
             "colorbar": {
              "outlinewidth": 0,
              "ticks": ""
             }
            },
            "type": "scatterpolargl"
           }
          ],
          "scatterternary": [
           {
            "marker": {
             "colorbar": {
              "outlinewidth": 0,
              "ticks": ""
             }
            },
            "type": "scatterternary"
           }
          ],
          "surface": [
           {
            "colorbar": {
             "outlinewidth": 0,
             "ticks": ""
            },
            "colorscale": [
             [
              0,
              "#0d0887"
             ],
             [
              0.1111111111111111,
              "#46039f"
             ],
             [
              0.2222222222222222,
              "#7201a8"
             ],
             [
              0.3333333333333333,
              "#9c179e"
             ],
             [
              0.4444444444444444,
              "#bd3786"
             ],
             [
              0.5555555555555556,
              "#d8576b"
             ],
             [
              0.6666666666666666,
              "#ed7953"
             ],
             [
              0.7777777777777778,
              "#fb9f3a"
             ],
             [
              0.8888888888888888,
              "#fdca26"
             ],
             [
              1,
              "#f0f921"
             ]
            ],
            "type": "surface"
           }
          ],
          "table": [
           {
            "cells": {
             "fill": {
              "color": "#EBF0F8"
             },
             "line": {
              "color": "white"
             }
            },
            "header": {
             "fill": {
              "color": "#C8D4E3"
             },
             "line": {
              "color": "white"
             }
            },
            "type": "table"
           }
          ]
         },
         "layout": {
          "annotationdefaults": {
           "arrowcolor": "#2a3f5f",
           "arrowhead": 0,
           "arrowwidth": 1
          },
          "autotypenumbers": "strict",
          "coloraxis": {
           "colorbar": {
            "outlinewidth": 0,
            "ticks": ""
           }
          },
          "colorscale": {
           "diverging": [
            [
             0,
             "#8e0152"
            ],
            [
             0.1,
             "#c51b7d"
            ],
            [
             0.2,
             "#de77ae"
            ],
            [
             0.3,
             "#f1b6da"
            ],
            [
             0.4,
             "#fde0ef"
            ],
            [
             0.5,
             "#f7f7f7"
            ],
            [
             0.6,
             "#e6f5d0"
            ],
            [
             0.7,
             "#b8e186"
            ],
            [
             0.8,
             "#7fbc41"
            ],
            [
             0.9,
             "#4d9221"
            ],
            [
             1,
             "#276419"
            ]
           ],
           "sequential": [
            [
             0,
             "#0d0887"
            ],
            [
             0.1111111111111111,
             "#46039f"
            ],
            [
             0.2222222222222222,
             "#7201a8"
            ],
            [
             0.3333333333333333,
             "#9c179e"
            ],
            [
             0.4444444444444444,
             "#bd3786"
            ],
            [
             0.5555555555555556,
             "#d8576b"
            ],
            [
             0.6666666666666666,
             "#ed7953"
            ],
            [
             0.7777777777777778,
             "#fb9f3a"
            ],
            [
             0.8888888888888888,
             "#fdca26"
            ],
            [
             1,
             "#f0f921"
            ]
           ],
           "sequentialminus": [
            [
             0,
             "#0d0887"
            ],
            [
             0.1111111111111111,
             "#46039f"
            ],
            [
             0.2222222222222222,
             "#7201a8"
            ],
            [
             0.3333333333333333,
             "#9c179e"
            ],
            [
             0.4444444444444444,
             "#bd3786"
            ],
            [
             0.5555555555555556,
             "#d8576b"
            ],
            [
             0.6666666666666666,
             "#ed7953"
            ],
            [
             0.7777777777777778,
             "#fb9f3a"
            ],
            [
             0.8888888888888888,
             "#fdca26"
            ],
            [
             1,
             "#f0f921"
            ]
           ]
          },
          "colorway": [
           "#636efa",
           "#EF553B",
           "#00cc96",
           "#ab63fa",
           "#FFA15A",
           "#19d3f3",
           "#FF6692",
           "#B6E880",
           "#FF97FF",
           "#FECB52"
          ],
          "font": {
           "color": "#2a3f5f"
          },
          "geo": {
           "bgcolor": "white",
           "lakecolor": "white",
           "landcolor": "#E5ECF6",
           "showlakes": true,
           "showland": true,
           "subunitcolor": "white"
          },
          "hoverlabel": {
           "align": "left"
          },
          "hovermode": "closest",
          "mapbox": {
           "style": "light"
          },
          "paper_bgcolor": "white",
          "plot_bgcolor": "#E5ECF6",
          "polar": {
           "angularaxis": {
            "gridcolor": "white",
            "linecolor": "white",
            "ticks": ""
           },
           "bgcolor": "#E5ECF6",
           "radialaxis": {
            "gridcolor": "white",
            "linecolor": "white",
            "ticks": ""
           }
          },
          "scene": {
           "xaxis": {
            "backgroundcolor": "#E5ECF6",
            "gridcolor": "white",
            "gridwidth": 2,
            "linecolor": "white",
            "showbackground": true,
            "ticks": "",
            "zerolinecolor": "white"
           },
           "yaxis": {
            "backgroundcolor": "#E5ECF6",
            "gridcolor": "white",
            "gridwidth": 2,
            "linecolor": "white",
            "showbackground": true,
            "ticks": "",
            "zerolinecolor": "white"
           },
           "zaxis": {
            "backgroundcolor": "#E5ECF6",
            "gridcolor": "white",
            "gridwidth": 2,
            "linecolor": "white",
            "showbackground": true,
            "ticks": "",
            "zerolinecolor": "white"
           }
          },
          "shapedefaults": {
           "line": {
            "color": "#2a3f5f"
           }
          },
          "ternary": {
           "aaxis": {
            "gridcolor": "white",
            "linecolor": "white",
            "ticks": ""
           },
           "baxis": {
            "gridcolor": "white",
            "linecolor": "white",
            "ticks": ""
           },
           "bgcolor": "#E5ECF6",
           "caxis": {
            "gridcolor": "white",
            "linecolor": "white",
            "ticks": ""
           }
          },
          "title": {
           "x": 0.05
          },
          "xaxis": {
           "automargin": true,
           "gridcolor": "white",
           "linecolor": "white",
           "ticks": "",
           "title": {
            "standoff": 15
           },
           "zerolinecolor": "white",
           "zerolinewidth": 2
          },
          "yaxis": {
           "automargin": true,
           "gridcolor": "white",
           "linecolor": "white",
           "ticks": "",
           "title": {
            "standoff": 15
           },
           "zerolinecolor": "white",
           "zerolinewidth": 2
          }
         }
        },
        "title": {
         "text": "Crime Counts on Eagles Game Days Within 3km of the Stadium by Win/Loss"
        },
        "xaxis": {
         "anchor": "y",
         "autorange": true,
         "domain": [
          0,
          1
         ],
         "range": [
          -0.5063025210084033,
          1.5
         ],
         "title": {
          "text": "Result"
         },
         "type": "category"
        },
        "yaxis": {
         "anchor": "x",
         "autorange": true,
         "domain": [
          0,
          1
         ],
         "range": [
          0.16666666666666674,
          16.833333333333332
         ],
         "title": {
          "text": "crime_count"
         },
         "type": "linear"
        }
       }
      },
      "image/png": "[encoded data removed]"
     },
     "metadata": {},
     "output_type": "display_data"
    },
    {
     "name": "stdout",
     "output_type": "stream",
     "text": [
      "Welch's t-test (Win vs Loss): t=2.70, p=0.0085\n"
     ]
    }
   ],
   "source": [
    "#Filter to crimes within 3 km\n",
    "philly_tagged = philly_tagged[philly_tagged[\"distance_to_stadium_m\"] <= 3_000]\n",
    "\n",
    "game_day_crimes = philly_tagged[\n",
    "    (philly_tagged[\"is_game_window\"]) &\n",
    "    (philly_tagged[\"Result\"].isin([\"Win\", \"Loss\"]))\n",
    "]\n",
    "\n",
    "crime_counts = (\n",
    "    game_day_crimes.groupby([\"date\", \"Result\"])\n",
    "    .size()\n",
    "    .reset_index(name=\"crime_count\")\n",
    ")\n",
    "\n",
    "utils.plot_game_day_crime_boxplot(\n",
    "    crime_counts,\n",
    "    result_col=\"Result\",\n",
    "    title=\"Crime Counts on Eagles Game Days Within 3km of the Stadium by Win/Loss\",\n",
    "    save_path=\"output/figures/eagles_game_day_3km_boxplot.png\"\n",
    ")\n",
    "\n",
    "t_stat, p_val = utils.welchs_t_test_by_result(\n",
    "    crime_counts,\n",
    "    result_col=\"Result\",\n",
    "    group1=\"Win\",\n",
    "    group2=\"Loss\"\n",
    ")\n"
   ]
  },
  {
   "cell_type": "code",
   "execution_count": null,
   "id": "7a108dab-26a3-41d2-b7a0-eeaa26b95e1e",
   "metadata": {},
   "outputs": [],
   "source": []
  }
 ],
 "metadata": {
  "kernelspec": {
   "display_name": "Python [conda env:qss20]",
   "language": "python",
   "name": "conda-env-qss20-py"
  },
  "language_info": {
   "codemirror_mode": {
    "name": "ipython",
    "version": 3
   },
   "file_extension": ".py",
   "mimetype": "text/x-python",
   "name": "python",
   "nbconvert_exporter": "python",
   "pygments_lexer": "ipython3",
   "version": "3.10.16"
  }
 },
 "nbformat": 4,
 "nbformat_minor": 5
}
